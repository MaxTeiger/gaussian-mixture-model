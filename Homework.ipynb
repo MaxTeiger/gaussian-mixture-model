{
  "nbformat": 4,
  "nbformat_minor": 0,
  "metadata": {
    "colab": {
      "name": "Homework.ipynb",
      "provenance": []
    },
    "kernelspec": {
      "name": "python3",
      "display_name": "Python 3"
    }
  },
  "cells": [
    {
      "cell_type": "markdown",
      "metadata": {
        "id": "75amho2Yy9xp",
        "colab_type": "text"
      },
      "source": [
        "# [Homework] Gaussian Mixture Model (GMM)\n",
        "*Jae Yun JUN KIM August 20, 2019*"
      ]
    },
    {
      "cell_type": "markdown",
      "metadata": {
        "id": "Ur-o6yFDzXhj",
        "colab_type": "text"
      },
      "source": [
        "## 1 Tasks"
      ]
    },
    {
      "cell_type": "markdown",
      "metadata": {
        "id": "PWdQ3UTKzZsS",
        "colab_type": "text"
      },
      "source": [
        "### 1. Implement yourself the GMM algorithm for Example 1 (density estimation for a Gaussian mixture) given in the Lab 3 document."
      ]
    },
    {
      "cell_type": "code",
      "metadata": {
        "id": "2suCDHeYAcIy",
        "colab_type": "code",
        "colab": {}
      },
      "source": [
        "import numpy as np\n",
        "import matplotlib.pyplot as plt\n",
        "from matplotlib.colors import LogNorm\n",
        "import random as rand\n",
        "from scipy.stats import norm\n",
        "import math"
      ],
      "execution_count": 0,
      "outputs": []
    },
    {
      "cell_type": "markdown",
      "metadata": {
        "id": "mv46b7Vlzc4C",
        "colab_type": "text"
      },
      "source": [
        "##### 1. Partie Cours"
      ]
    },
    {
      "cell_type": "markdown",
      "metadata": {
        "id": "Ukkr8yXwAtlP",
        "colab_type": "text"
      },
      "source": [
        ""
      ]
    },
    {
      "cell_type": "markdown",
      "metadata": {
        "id": "cLDy0MU1zgUP",
        "colab_type": "text"
      },
      "source": [
        "##### 2. Partie code"
      ]
    },
    {
      "cell_type": "code",
      "metadata": {
        "id": "BHH43u6G89gv",
        "colab_type": "code",
        "outputId": "53a2918f-a6d6-429d-8c54-d7ec23842868",
        "colab": {
          "base_uri": "https://localhost:8080/",
          "height": 302
        }
      },
      "source": [
        "n_samples = 300\n",
        "\n",
        "# generate random sample, two components\n",
        "# np.random.seed(0)\n",
        "# generate spherical data centered on (20, 20)\n",
        "shifted_gaussian = np.random.randn(300, 2) + np.array([5, 5])\n",
        "\n",
        "# generate zero centered stretched Gaussian data\n",
        "C = np.array([[0., -0.7], [3.5, .7]])\n",
        "stretched_gaussian = np.dot(np.random.randn(1000, 2), C)\n",
        "\n",
        "# concatenate the two datasets into the final training set\n",
        "X_train = np.vstack([shifted_gaussian, stretched_gaussian])\n",
        "\n",
        "plt.scatter(X_train[:, 0], X_train[:, 1], .8)\n",
        "plt.show()\n",
        "\n",
        "dataset = X_train\n",
        "print(\"Number of training examples : \", np.size(dataset, 0))\n",
        "print(\"Number of Gaussian Distribution : \", np.size(dataset, 1))"
      ],
      "execution_count": 2,
      "outputs": [
        {
          "output_type": "display_data",
          "data": {
            "image/png": "[encoded data removed]",
            "text/plain": [
              "<Figure size 432x288 with 1 Axes>"
            ]
          },
          "metadata": {
            "tags": []
          }
        },
        {
          "output_type": "stream",
          "text": [
            "Number of training examples :  1300\n",
            "Number of Gaussian Distribution :  2\n"
          ],
          "name": "stdout"
        }
      ]
    },
    {
      "cell_type": "code",
      "metadata": {
        "id": "Gg010tqazidR",
        "colab_type": "code",
        "colab": {}
      },
      "source": [
        "class GMM():\n",
        "  def __init__(self, dataset):\n",
        "\n",
        "      self.N = np.size(dataset,0)\n",
        "      self.K = np.size(dataset,1)\n",
        "      self.mu = np.zeros((self.K, self.K))\n",
        "\n",
        "      self.dataset = dataset\n",
        "\n",
        "      for k in range(self.K):\n",
        "        val = rand.randrange(self.N) \n",
        "        for j in range(self.K):\n",
        "            self.mu[k][j] += dataset[val][j]\n",
        "        \n",
        "      sigma1 = [[1, 0],[0, 1]]\n",
        "      sigma2 = [[2, 0],[0, 2]]\n",
        "      self.sigma = np.array([sigma1, sigma2])\n",
        "\n",
        "      rdm_val = rand.uniform(0, 1) \n",
        "      self.phi = [rdm_val, (1-rdm_val)]\n",
        "    \n",
        "      print(\"init mu \", self.mu)\n",
        "      print(\"init sigma \", self.sigma)\n",
        "      print(\"init phi\", self.phi)\n",
        "\n",
        "\n",
        "  def gaussian(self, x, mu, sigma):\n",
        "    #compute the pdf of the multi-var gaussian\n",
        "    N = len(x)\n",
        "\n",
        "    if (N == len(mu)) and ((N, N) == sigma.shape):\n",
        "        det = np.linalg.det(sigma)\n",
        "\n",
        "        if det == 0:\n",
        "            raise NameError(\"The covariance matrix can't be singular\")\n",
        "        \n",
        "        norm_factor = ((2*np.pi)**(float(N)/2))*abs(det)**(0.5)\n",
        "        norm_factor = 1/(norm_factor)\n",
        "\n",
        "        inv = np.linalg.inv(sigma)\n",
        "        x_mu = (x-mu)\n",
        "        rs = norm_factor*np.exp(-0.5*np.dot(np.dot(x_mu.T, inv), x_mu))     # [2x2]\n",
        "        return rs\n",
        "    \n",
        "    else:\n",
        "        raise NameError(\"Error with the dimensions of the input\")\n",
        "        return -1\n",
        "\n",
        "  def likelihood(self, dataset, mu, sigma, phi):\n",
        "    val = 0.0\n",
        "    for k in range(self.K):\n",
        "        val += self.phi[k]*self.gaussian(dataset, self.mu[k], self.sigma[k])               # [2x2]\n",
        "\n",
        "    return val\n",
        "  \n",
        "  def e_step(self):\n",
        "    # update values of W weight matrix. W is an NxK matrix where (i,j)th element represents the probability of\n",
        "    # ith data point to be a member of jth cluster given the parameters mu, sigma, phi\n",
        "    \n",
        "    W = np.zeros([self.N,self.K])\n",
        "    for i in range(self.N):\n",
        "        for k in range(self.K):\n",
        "            W[i][k] = self.phi[k]*self.gaussian(self.dataset[i], self.mu[k], self.sigma[k]) / self.likelihood(self.dataset[i], self.mu, self.sigma, self.phi)\n",
        "    \n",
        "    return W\n",
        "\n",
        "  def m_step(self, W):\n",
        "\n",
        "    x = self.dataset\n",
        "    #update the estimated parameters\n",
        "    J = self.K\n",
        "    \n",
        "    mu = np.zeros((self.K, J))\n",
        "    sigma = np.zeros((self.K,J,J))\n",
        "    phi = np.zeros(self.K)\n",
        "    sum_W = np.zeros(self.K)\n",
        "    x_mu = np.zeros((1,J))\n",
        "    \n",
        "    for k in range(self.K):\n",
        "        for i in range(self.N):\n",
        "            sum_W[k] += W[i][k]\n",
        "            mu[k] += (W[i][k])*x[i]\n",
        "        mu[k] /= sum_W[k]\n",
        "    \n",
        "        for i in range(self.N):\n",
        "            x_mu = np.zeros((1,J)) + x[i] - mu[k]\n",
        "            sigma[k] += (W[i][k]*x_mu*x_mu.T)/ sum_W[k]\n",
        "        \n",
        "        phi[k] = sum_W[k] / self.N \n",
        "\n",
        "    return mu, sigma, phi\n",
        "\n",
        "  def max_log_likelihood(self, x, K, mu, sigma, phi):\n",
        "    log_likelihood = 0.0\n",
        "    N = len(x)\n",
        "    for i in range(N):\n",
        "        log_likelihood += np.log(self.likelihood(x[i], mu, sigma, phi))\n",
        "        \n",
        "    return log_likelihood\n",
        "\n",
        "  def fit(self):\n",
        "    threshold = 0.001\n",
        "    converged = False\n",
        "    max_it = 20\n",
        "    log_likelihood = 0.0\n",
        "    \n",
        "    while(converged == False):\n",
        "      for it in range (max_it):\n",
        "        print(\" -------------------------------------------- iteration \", it)\n",
        "\n",
        "        #E-step (guess values of Z(i))\n",
        "        W = self.e_step()\n",
        "\n",
        "        #M-step (update the estimated parameters mu, sigma, phi)\n",
        "        self.mu, self.sigma, self.phi = self.m_step(W)\n",
        "\n",
        "        new_score = self.max_log_likelihood(self.dataset, self.K, self.mu, self.sigma, self.phi)\n",
        "        print(\"\\n mu \\n\", self.mu)\n",
        "        print(\"\\n sigma \\n\", self.sigma)\n",
        "        print(\"\\n phi\\n\", self.phi)    \n",
        "        print(\"\\n score \", abs(new_score - log_likelihood))  \n",
        "\n",
        "        if (abs(new_score - log_likelihood) < threshold):\n",
        "            converged = True\n",
        "            break\n",
        "      \n",
        "        log_likelihood = new_score\n",
        "\n",
        "\n",
        "    res = np.concatenate([self.dataset, W], axis=1)\n",
        "    print(res)\n",
        "\n",
        "\n",
        "  def score_samples(self, X):\n",
        "    \n",
        "    scores = np.zeros(0)\n",
        "\n",
        "    for i in range(X.shape[0]):\n",
        "\n",
        "      score = np.log(self.likelihood(X[i], self.mu, self.sigma, self.phi))\n",
        "      # if score >= 1000.0 : \n",
        "      #   score = 999.0\n",
        "      #   print(\"test\")\n",
        "      # elif score <= -1000.0 : \n",
        "      #   score = -999.0\n",
        "      #   print(\"test\")\n",
        "\n",
        "      # print(score)\n",
        "      scores = np.append(scores, score)\n",
        "\n",
        "    return scores\n",
        "\n"
      ],
      "execution_count": 0,
      "outputs": []
    },
    {
      "cell_type": "code",
      "metadata": {
        "id": "ntvZzu9X9Kz4",
        "colab_type": "code",
        "outputId": "c7419221-d057-4550-aa64-f215e18961dd",
        "colab": {
          "base_uri": "https://localhost:8080/",
          "height": 159
        }
      },
      "source": [
        "model = GMM(dataset)"
      ],
      "execution_count": 0,
      "outputs": [
        {
          "output_type": "stream",
          "text": [
            "init mu  [[-0.60725173  0.11307197]\n",
            " [ 4.01408352  6.48796776]]\n",
            "init sigma  [[[1 0]\n",
            "  [0 1]]\n",
            "\n",
            " [[2 0]\n",
            "  [0 2]]]\n",
            "init phi [0.04643213604200813, 0.9535678639579919]\n"
          ],
          "name": "stdout"
        }
      ]
    },
    {
      "cell_type": "code",
      "metadata": {
        "id": "ou_HrDpJ9VQj",
        "colab_type": "code",
        "outputId": "611b8fc1-7343-4e0c-bf45-0576c0caa90f",
        "colab": {
          "base_uri": "https://localhost:8080/",
          "height": 1000
        }
      },
      "source": [
        "model.fit()"
      ],
      "execution_count": 0,
      "outputs": [
        {
          "output_type": "stream",
          "text": [
            " -------------------------------------------- iteration  0\n",
            "\n",
            " mu \n",
            " [[-1.29799709 -0.30365644]\n",
            " [ 4.94565506  3.46607413]]\n",
            "\n",
            " sigma \n",
            " [[[7.5614482  1.36081414]\n",
            "  [1.36081414 0.70124424]]\n",
            "\n",
            " [[2.0051922  0.33389448]\n",
            "  [0.33389448 4.34536439]]]\n",
            "\n",
            " phi\n",
            " [0.62136454 0.37863546]\n",
            "\n",
            " score  5443.629144289912\n",
            " -------------------------------------------- iteration  1\n",
            "\n",
            " mu \n",
            " [[-0.92601689 -0.21563172]\n",
            " [ 4.99106143  3.76256336]]\n",
            "\n",
            " sigma \n",
            " [[[9.35417252 1.76799569]\n",
            "  [1.76799569 0.77341589]]\n",
            "\n",
            " [[1.79821603 0.23733252]\n",
            "  [0.23733252 4.09037386]]]\n",
            "\n",
            " phi\n",
            " [0.66333251 0.33666749]\n",
            "\n",
            " score  60.47883542805448\n",
            " -------------------------------------------- iteration  2\n",
            "\n",
            " mu \n",
            " [[-0.62074114 -0.15283176]\n",
            " [ 5.00401601  4.10381623]]\n",
            "\n",
            " sigma \n",
            " [[[10.84522197  2.0660999 ]\n",
            "  [ 2.0660999   0.83202469]]\n",
            "\n",
            " [[ 1.313275    0.12046954]\n",
            "  [ 0.12046954  3.46033139]]]\n",
            "\n",
            " phi\n",
            " [0.70010934 0.29989066]\n",
            "\n",
            " score  54.73326953659125\n",
            " -------------------------------------------- iteration  3\n",
            "\n",
            " mu \n",
            " [[-0.41136092 -0.11011995]\n",
            " [ 5.02633556  4.43095106]]\n",
            "\n",
            " sigma \n",
            " [[[ 1.16659737e+01  2.22891126e+00]\n",
            "  [ 2.22891126e+00  8.68784245e-01]]\n",
            "\n",
            " [[ 1.03762523e+00 -1.10463603e-04]\n",
            "  [-1.10463603e-04  2.61741741e+00]]]\n",
            "\n",
            " phi\n",
            " [0.7282982 0.2717018]\n",
            "\n",
            " score  39.32039887667088\n",
            " -------------------------------------------- iteration  4\n",
            "\n",
            " mu \n",
            " [[-0.28077152 -0.08160679]\n",
            " [ 5.05016447  4.68910575]]\n",
            "\n",
            " sigma \n",
            " [[[12.07656428  2.32249117]\n",
            "  [ 2.32249117  0.8950195 ]]\n",
            "\n",
            " [[ 0.94141372 -0.1117815 ]\n",
            "  [-0.1117815   1.8133653 ]]]\n",
            "\n",
            " phi\n",
            " [0.74735346 0.25264654]\n",
            "\n",
            " score  31.50571145044978\n",
            " -------------------------------------------- iteration  5\n",
            "\n",
            " mu \n",
            " [[-0.20076179 -0.05992094]\n",
            " [ 5.05652085  4.8520258 ]]\n",
            "\n",
            " sigma \n",
            " [[[12.32413766  2.40033409]\n",
            "  [ 2.40033409  0.91934708]]\n",
            "\n",
            " [[ 0.91131225 -0.14764134]\n",
            "  [-0.14764134  1.30186005]]]\n",
            "\n",
            " phi\n",
            " [0.75903278 0.24096722]\n",
            "\n",
            " score  17.97441609125326\n",
            " -------------------------------------------- iteration  6\n",
            "\n",
            " mu \n",
            " [[-0.15700244 -0.04514085]\n",
            " [ 5.05065412  4.93158991]]\n",
            "\n",
            " sigma \n",
            " [[[12.4741585   2.46194982]\n",
            "  [ 2.46194982  0.94191867]]\n",
            "\n",
            " [[ 0.8998777  -0.13430417]\n",
            "  [-0.13430417  1.0769305 ]]]\n",
            "\n",
            " phi\n",
            " [0.76513938 0.23486062]\n",
            "\n",
            " score  5.381386699661562\n",
            " -------------------------------------------- iteration  7\n",
            "\n",
            " mu \n",
            " [[-0.13667827 -0.0371189 ]\n",
            " [ 5.0456435   4.96452422]]\n",
            "\n",
            " sigma \n",
            " [[[12.54767154  2.49812185]\n",
            "  [ 2.49812185  0.95721391]]\n",
            "\n",
            " [[ 0.89322097 -0.1222293 ]\n",
            "  [-0.1222293   0.99482814]]]\n",
            "\n",
            " phi\n",
            " [0.76791304 0.23208696]\n",
            "\n",
            " score  1.043619198795568\n",
            " -------------------------------------------- iteration  8\n",
            "\n",
            " mu \n",
            " [[-0.12821154 -0.03350131]\n",
            " [ 5.04324619  4.97737596]]\n",
            "\n",
            " sigma \n",
            " [[[12.57879241  2.51494353]\n",
            "  [ 2.51494353  0.9648475 ]]\n",
            "\n",
            " [[ 0.88986377 -0.11694098]\n",
            "  [-0.11694098  0.96536168]]]\n",
            "\n",
            " phi\n",
            " [0.76906269 0.23093731]\n",
            "\n",
            " score  0.16926758520003204\n",
            " -------------------------------------------- iteration  9\n",
            "\n",
            " mu \n",
            " [[-0.12486125 -0.03202371]\n",
            " [ 5.04225152  4.98231724]]\n",
            "\n",
            " sigma \n",
            " [[[12.59118353  2.52189561]\n",
            "  [ 2.52189561  0.96809248]]\n",
            "\n",
            " [[ 0.88841053 -0.11485377]\n",
            "  [-0.11485377  0.95445669]]]\n",
            "\n",
            " phi\n",
            " [0.76951688 0.23048312]\n",
            "\n",
            " score  0.025795339622163738\n",
            " -------------------------------------------- iteration  10\n",
            "\n",
            " mu \n",
            " [[-0.12356264 -0.03144416]\n",
            " [ 5.04185831  4.98421045]]\n",
            "\n",
            " sigma \n",
            " [[[12.59600031  2.52463509]\n",
            "  [ 2.52463509  0.96938479]]\n",
            "\n",
            " [[ 0.88782499 -0.1140452 ]\n",
            "  [-0.1140452   0.95034159]]]\n",
            "\n",
            " phi\n",
            " [0.7696928 0.2303072]\n",
            "\n",
            " score  0.0038367848137568217\n",
            " -------------------------------------------- iteration  11\n",
            "\n",
            " mu \n",
            " [[-0.12306324 -0.03122031]\n",
            " [ 5.04170577  4.98493515]]\n",
            "\n",
            " sigma \n",
            " [[[12.59785521  2.52569523]\n",
            "  [ 2.52569523  0.96988687]]\n",
            "\n",
            " [[ 0.88759618 -0.11373393]\n",
            "  [-0.11373393  0.94877561]]]\n",
            "\n",
            " phi\n",
            " [0.76976042 0.23023958]\n",
            "\n",
            " score  0.0005652103318425361\n",
            "[[ 3.66768775e+00  5.82132819e+00  1.82379280e-12  1.00000000e+00]\n",
            " [ 6.81908861e+00  5.39281640e+00  3.27426804e-08  9.99999967e-01]\n",
            " [ 5.30351843e+00  7.05508540e+00  5.93985474e-17  1.00000000e+00]\n",
            " ...\n",
            " [-5.43972004e+00 -2.33994464e+00  1.00000000e+00  6.20849549e-44]\n",
            " [-2.33759904e+00 -1.04477564e-01  1.00000000e+00  1.87191478e-22]\n",
            " [ 4.29368210e+00  1.03917512e+00  9.99788709e-01  2.11291356e-04]]\n"
          ],
          "name": "stdout"
        }
      ]
    },
    {
      "cell_type": "code",
      "metadata": {
        "id": "DmRvlM7iGXJY",
        "colab_type": "code",
        "outputId": "25893002-698c-46b9-e8a1-8cc3a9bab713",
        "colab": {
          "base_uri": "https://localhost:8080/",
          "height": 298
        }
      },
      "source": [
        "# display predicted scores by the model as a contour plot\n",
        "x = np.linspace(-20., 30.)\n",
        "y = np.linspace(-20., 40.)\n",
        "X, Y = np.meshgrid(x, y)\n",
        "XX = np.array([X.ravel(), Y.ravel()]).T\n",
        "Z = -model.score_samples(XX)\n",
        "Z = Z.reshape(X.shape)\n",
        "\n",
        "CS = plt.contour(X, Y, Z, norm=LogNorm(vmin=1.0, vmax=1000.0),\n",
        "levels=np.logspace(0, 3, 10))\n",
        "CB = plt.colorbar(CS, shrink=0.8, extend='both')\n",
        "\n",
        "plt.scatter(X_train[:, 0], X_train[:, 1], .8)\n",
        "plt.title('Negative log-likelihood predicted by a GMM')\n",
        "plt.axis('tight')\n",
        "plt.show()"
      ],
      "execution_count": 0,
      "outputs": [
        {
          "output_type": "stream",
          "text": [
            "/usr/local/lib/python3.6/dist-packages/ipykernel_launcher.py:140: RuntimeWarning: divide by zero encountered in log\n"
          ],
          "name": "stderr"
        },
        {
          "output_type": "display_data",
          "data": {
            "image/png": "[encoded data removed]",
            "text/plain": [
              "<Figure size 432x288 with 2 Axes>"
            ]
          },
          "metadata": {
            "tags": []
          }
        }
      ]
    }
  ]
}